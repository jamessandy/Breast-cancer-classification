{
  "nbformat": 4,
  "nbformat_minor": 0,
  "metadata": {
    "colab": {
      "name": "training_model.ipynb",
      "provenance": []
    },
    "kernelspec": {
      "name": "python3",
      "display_name": "Python 3"
    }
  },
  "cells": [
    {
      "cell_type": "code",
      "metadata": {
        "id": "L5KAZxMvLCsH",
        "colab_type": "code",
        "colab": {}
      },
      "source": [
        "import matplotlib\n",
        "matplotlib.use(\"Agg\")\n",
        "from keras.preprocessing.image import ImageDataGenerator\n",
        "from keras.callbacks import LearningRateScheduler\n",
        "from keras.optimizers import Adagrad\n",
        "from keras.utils import np_utils\n",
        "from sklearn.metrics import classification_report\n",
        "from sklearn.metrics import confusion_matrix\n",
        "from cancernet.cancernet import CancerNet\n",
        "from cancernet import config\n",
        "from imutils import paths\n",
        "import matplotlib.pyplot as plt\n",
        "import numpy as np\n",
        "import os\n"
      ],
      "execution_count": null,
      "outputs": []
    },
    {
      "cell_type": "code",
      "metadata": {
        "id": "oXmcHrUjLMvZ",
        "colab_type": "code",
        "colab": {}
      },
      "source": [
        "NUM_EPOCHS=40; INIT_LR=1e-2; BS=32"
      ],
      "execution_count": null,
      "outputs": []
    },
    {
      "cell_type": "code",
      "metadata": {
        "id": "AqIAv8cvLoyp",
        "colab_type": "code",
        "colab": {}
      },
      "source": [
        "trainPaths=list(paths.list_images(config.TRAIN_PATH))\n",
        "lenTrain=len(trainPaths)\n",
        "lenVal=len(list(paths.list_images(config.VAL_PATH)))\n",
        "lenTest=len(list(paths.list_images(config.TEST_PATH)))"
      ],
      "execution_count": null,
      "outputs": []
    },
    {
      "cell_type": "code",
      "metadata": {
        "id": "PC3_v-ZxLo4q",
        "colab_type": "code",
        "colab": {}
      },
      "source": [
        "trainLabels=[int(p.split(os.path.sep)[-2]) for p in trainPaths]\n",
        "trainLabels=np_utils.to_categorical(trainLabels)\n",
        "classTotals=trainLabels.sum(axis=0)\n",
        "classWeight=classTotals.max()/classTotals\n"
      ],
      "execution_count": null,
      "outputs": []
    },
    {
      "cell_type": "code",
      "metadata": {
        "id": "g5u4Xne7L4T2",
        "colab_type": "code",
        "colab": {}
      },
      "source": [
        "trainAug = ImageDataGenerator(\n",
        "  rescale=1/255.0,\n",
        "  rotation_range=20,\n",
        "  zoom_range=0.05,\n",
        "  width_shift_range=0.1,\n",
        "  height_shift_range=0.1,\n",
        "  shear_range=0.05,\n",
        "  horizontal_flip=True,\n",
        "  vertical_flip=True,\n",
        "  fill_mode=\"nearest\")"
      ],
      "execution_count": null,
      "outputs": []
    },
    {
      "cell_type": "code",
      "metadata": {
        "id": "wuaHdu6mL5cr",
        "colab_type": "code",
        "colab": {}
      },
      "source": [
        "valAug=ImageDataGenerator(rescale=1 / 255.0)"
      ],
      "execution_count": null,
      "outputs": []
    },
    {
      "cell_type": "code",
      "metadata": {
        "id": "615i7b-aL85K",
        "colab_type": "code",
        "colab": {}
      },
      "source": [
        "trainGen = trainAug.flow_from_directory(\n",
        "  config.TRAIN_PATH,\n",
        "  class_mode=\"categorical\",\n",
        "  target_size=(48,48),\n",
        "  color_mode=\"rgb\",\n",
        "  shuffle=True,\n",
        "  batch_size=BS)\n",
        "valGen = valAug.flow_from_directory(\n",
        "  config.VAL_PATH,\n",
        "  class_mode=\"categorical\",\n",
        "  target_size=(48,48),\n",
        "  color_mode=\"rgb\",\n",
        "  shuffle=False,\n",
        "  batch_size=BS)\n",
        "testGen = valAug.flow_from_directory(\n",
        "  config.TEST_PATH,\n",
        "  class_mode=\"categorical\",\n",
        "  target_size=(48,48),\n",
        "  color_mode=\"rgb\",\n",
        "  shuffle=False,\n",
        "  batch_size=BS)\n"
      ],
      "execution_count": null,
      "outputs": []
    },
    {
      "cell_type": "code",
      "metadata": {
        "id": "BPmGzYQrMA5C",
        "colab_type": "code",
        "colab": {}
      },
      "source": [
        "model=CancerNet.build(width=48,height=48,depth=3,classes=2)\n",
        "opt=Adagrad(lr=INIT_LR,decay=INIT_LR/NUM_EPOCHS)\n",
        "model.compile(loss=\"binary_crossentropy\",optimizer=opt,metrics=[\"accuracy\"])\n"
      ],
      "execution_count": null,
      "outputs": []
    },
    {
      "cell_type": "code",
      "metadata": {
        "id": "Sww40sdJMA-F",
        "colab_type": "code",
        "colab": {}
      },
      "source": [
        "M=model.fit_generator(\n",
        "  trainGen,\n",
        "  steps_per_epoch=lenTrain//BS,\n",
        "  validation_data=valGen,\n",
        "  validation_steps=lenVal//BS,\n",
        "  class_weight=classWeight,\n",
        "  epochs=NUM_EPOCHS)"
      ],
      "execution_count": null,
      "outputs": []
    },
    {
      "cell_type": "code",
      "metadata": {
        "id": "0wNVI_xCMR4b",
        "colab_type": "code",
        "colab": {}
      },
      "source": [
        "print(\"Now evaluating the model\")\n",
        "testGen.reset()\n",
        "pred_indices=model.predict_generator(testGen,steps=(lenTest//BS)+1)"
      ],
      "execution_count": null,
      "outputs": []
    },
    {
      "cell_type": "code",
      "metadata": {
        "id": "c38JoLGbMSYW",
        "colab_type": "code",
        "colab": {}
      },
      "source": [
        "pred_indices=np.argmax(pred_indices,axis=1)"
      ],
      "execution_count": null,
      "outputs": []
    },
    {
      "cell_type": "code",
      "metadata": {
        "id": "NWhilzRcMSfl",
        "colab_type": "code",
        "colab": {}
      },
      "source": [
        "print(classification_report(testGen.classes, pred_indices, target_names=testGen.class_indices.keys()))"
      ],
      "execution_count": null,
      "outputs": []
    },
    {
      "cell_type": "code",
      "metadata": {
        "id": "pu1C0Zw8McZy",
        "colab_type": "code",
        "colab": {}
      },
      "source": [
        "cm=confusion_matrix(testGen.classes,pred_indices)\n",
        "total=sum(sum(cm))\n",
        "accuracy=(cm[0,0]+cm[1,1])/total\n",
        "specificity=cm[1,1]/(cm[1,0]+cm[1,1])\n",
        "sensitivity=cm[0,0]/(cm[0,0]+cm[0,1])\n",
        "print(cm)\n",
        "print(f'Accuracy: {accuracy}')\n",
        "print(f'Specificity: {specificity}')\n",
        "print(f'Sensitivity: {sensitivity}')\n"
      ],
      "execution_count": null,
      "outputs": []
    },
    {
      "cell_type": "code",
      "metadata": {
        "id": "BJodLH5PMcly",
        "colab_type": "code",
        "colab": {}
      },
      "source": [
        "N = NUM_EPOCHS\n",
        "plt.style.use(\"ggplot\")\n",
        "plt.figure()\n",
        "plt.plot(np.arange(0,N), M.history[\"loss\"], label=\"train_loss\")\n",
        "plt.plot(np.arange(0,N), M.history[\"val_loss\"], label=\"val_loss\")\n",
        "plt.plot(np.arange(0,N), M.history[\"acc\"], label=\"train_acc\")\n",
        "plt.plot(np.arange(0,N), M.history[\"val_acc\"], label=\"val_acc\")\n",
        "plt.title(\"Training Loss and Accuracy on the IDC Dataset\")\n",
        "plt.xlabel(\"Epoch No.\")\n",
        "plt.ylabel(\"Loss/Accuracy\")\n",
        "plt.legend(loc=\"lower left\")\n",
        "plt.savefig('plot.png')"
      ],
      "execution_count": null,
      "outputs": []
    }
  ]
}